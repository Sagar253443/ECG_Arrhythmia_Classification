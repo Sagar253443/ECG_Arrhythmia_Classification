{
 "cells": [
  {
   "cell_type": "markdown",
   "id": "d369c8a5",
   "metadata": {},
   "source": [
    "# ECG-Arrhythmia Image Classification"
   ]
  },
  {
   "cell_type": "markdown",
   "id": "fceb495d",
   "metadata": {},
   "source": [
    "## Image Processing"
   ]
  },
  {
   "cell_type": "code",
   "execution_count": 1,
   "id": "0305a289",
   "metadata": {},
   "outputs": [
    {
     "name": "stdout",
     "output_type": "stream",
     "text": [
      "WARNING:tensorflow:From C:\\Users\\whynew\\anaconda3\\Lib\\site-packages\\keras\\src\\losses.py:2976: The name tf.losses.sparse_softmax_cross_entropy is deprecated. Please use tf.compat.v1.losses.sparse_softmax_cross_entropy instead.\n",
      "\n"
     ]
    }
   ],
   "source": [
    "from tensorflow.keras.models import Sequential\n",
    "from tensorflow.keras.layers import Dense\n",
    "from tensorflow.keras.layers import Convolution2D\n",
    "from tensorflow.keras.layers import MaxPooling2D\n",
    "from tensorflow.keras.layers import Flatten"
   ]
  },
  {
   "cell_type": "code",
   "execution_count": 2,
   "id": "089f0154",
   "metadata": {},
   "outputs": [],
   "source": [
    "from tensorflow.keras.preprocessing.image import ImageDataGenerator"
   ]
  },
  {
   "cell_type": "code",
   "execution_count": 3,
   "id": "c1d5e9b4",
   "metadata": {},
   "outputs": [],
   "source": [
    "train_datagen = ImageDataGenerator(rescale = 1./255,shear_range = 0.2,zoom_range = 0.2,horizontal_flip = True)\n",
    "test_datagen = ImageDataGenerator(rescale = 1./255)"
   ]
  },
  {
   "cell_type": "code",
   "execution_count": 4,
   "id": "cc708913",
   "metadata": {},
   "outputs": [
    {
     "name": "stdout",
     "output_type": "stream",
     "text": [
      "Found 15341 images belonging to 6 classes.\n",
      "Found 6825 images belonging to 6 classes.\n"
     ]
    }
   ],
   "source": [
    "x_train = train_datagen.flow_from_directory(r\"../data/train\",target_size = (64,64),batch_size = 32,class_mode = \"categorical\")\n",
    "x_test = test_datagen.flow_from_directory(r\"../data/test\",target_size = (64,64),batch_size = 32,class_mode = \"categorical\")"
   ]
  },
  {
   "cell_type": "code",
   "execution_count": 5,
   "id": "c4544c92",
   "metadata": {},
   "outputs": [
    {
     "data": {
      "text/plain": [
       "{'Left Bundle Branch Block': 0,\n",
       " 'Normal': 1,\n",
       " 'Premature Atrial Contraction': 2,\n",
       " 'Premature Ventricular Contractions': 3,\n",
       " 'Right Bundle Branch Block': 4,\n",
       " 'Ventricular Fibrillation': 5}"
      ]
     },
     "execution_count": 5,
     "metadata": {},
     "output_type": "execute_result"
    }
   ],
   "source": [
    "x_train.class_indices"
   ]
  },
  {
   "cell_type": "markdown",
   "id": "69a7332b",
   "metadata": {},
   "source": [
    "## Model Building "
   ]
  },
  {
   "cell_type": "code",
   "execution_count": 6,
   "id": "46eb3b21",
   "metadata": {},
   "outputs": [
    {
     "name": "stdout",
     "output_type": "stream",
     "text": [
      "WARNING:tensorflow:From C:\\Users\\whynew\\anaconda3\\Lib\\site-packages\\keras\\src\\backend.py:873: The name tf.get_default_graph is deprecated. Please use tf.compat.v1.get_default_graph instead.\n",
      "\n"
     ]
    }
   ],
   "source": [
    "model = Sequential()"
   ]
  },
  {
   "cell_type": "markdown",
   "id": "6355d9a9",
   "metadata": {},
   "source": [
    "Adding CNN Layers "
   ]
  },
  {
   "cell_type": "code",
   "execution_count": 7,
   "id": "9adb1a71",
   "metadata": {},
   "outputs": [],
   "source": [
    "model.add(Convolution2D(32,(3,3),input_shape = (64,64,3),activation = \"relu\"))"
   ]
  },
  {
   "cell_type": "code",
   "execution_count": 8,
   "id": "1a0655a3",
   "metadata": {},
   "outputs": [
    {
     "name": "stdout",
     "output_type": "stream",
     "text": [
      "WARNING:tensorflow:From C:\\Users\\whynew\\anaconda3\\Lib\\site-packages\\keras\\src\\layers\\pooling\\max_pooling2d.py:161: The name tf.nn.max_pool is deprecated. Please use tf.nn.max_pool2d instead.\n",
      "\n"
     ]
    }
   ],
   "source": [
    "model.add(MaxPooling2D(pool_size = (2,2)))"
   ]
  },
  {
   "cell_type": "code",
   "execution_count": 9,
   "id": "80d54f23",
   "metadata": {},
   "outputs": [],
   "source": [
    "model.add(Convolution2D(32,(3,3),activation='relu'))"
   ]
  },
  {
   "cell_type": "code",
   "execution_count": 10,
   "id": "a6219cd0",
   "metadata": {},
   "outputs": [],
   "source": [
    "model.add(MaxPooling2D(pool_size=(2,2)))"
   ]
  },
  {
   "cell_type": "code",
   "execution_count": 11,
   "id": "483b235e",
   "metadata": {},
   "outputs": [],
   "source": [
    "model.add(Flatten()) # input of ANN"
   ]
  },
  {
   "cell_type": "markdown",
   "id": "2f775ce2",
   "metadata": {},
   "source": [
    "Adding Dense Layers"
   ]
  },
  {
   "cell_type": "code",
   "execution_count": 12,
   "id": "4022cc39",
   "metadata": {},
   "outputs": [],
   "source": [
    "model.add(Dense(units = 128,kernel_initializer = \"random_uniform\",activation = \"relu\"))"
   ]
  },
  {
   "cell_type": "code",
   "execution_count": 13,
   "id": "8ad17aec",
   "metadata": {},
   "outputs": [],
   "source": [
    "model.add(Dense(units = 128,kernel_initializer = \"random_uniform\",activation = \"relu\"))"
   ]
  },
  {
   "cell_type": "code",
   "execution_count": 14,
   "id": "db8579ad",
   "metadata": {},
   "outputs": [],
   "source": [
    "model.add(Dense(units = 128,kernel_initializer = \"random_uniform\",activation = \"relu\"))"
   ]
  },
  {
   "cell_type": "code",
   "execution_count": 15,
   "id": "200d0be2",
   "metadata": {},
   "outputs": [],
   "source": [
    "model.add(Dense(units = 6,kernel_initializer = \"random_uniform\",activation = \"softmax\"))"
   ]
  },
  {
   "cell_type": "code",
   "execution_count": 16,
   "id": "6fc57185",
   "metadata": {},
   "outputs": [
    {
     "name": "stdout",
     "output_type": "stream",
     "text": [
      "Model: \"sequential\"\n",
      "_________________________________________________________________\n",
      " Layer (type)                Output Shape              Param #   \n",
      "=================================================================\n",
      " conv2d (Conv2D)             (None, 62, 62, 32)        896       \n",
      "                                                                 \n",
      " max_pooling2d (MaxPooling2  (None, 31, 31, 32)        0         \n",
      " D)                                                              \n",
      "                                                                 \n",
      " conv2d_1 (Conv2D)           (None, 29, 29, 32)        9248      \n",
      "                                                                 \n",
      " max_pooling2d_1 (MaxPoolin  (None, 14, 14, 32)        0         \n",
      " g2D)                                                            \n",
      "                                                                 \n",
      " flatten (Flatten)           (None, 6272)              0         \n",
      "                                                                 \n",
      " dense (Dense)               (None, 128)               802944    \n",
      "                                                                 \n",
      " dense_1 (Dense)             (None, 128)               16512     \n",
      "                                                                 \n",
      " dense_2 (Dense)             (None, 128)               16512     \n",
      "                                                                 \n",
      " dense_3 (Dense)             (None, 6)                 774       \n",
      "                                                                 \n",
      "=================================================================\n",
      "Total params: 846886 (3.23 MB)\n",
      "Trainable params: 846886 (3.23 MB)\n",
      "Non-trainable params: 0 (0.00 Byte)\n",
      "_________________________________________________________________\n"
     ]
    }
   ],
   "source": [
    "model.summary()"
   ]
  },
  {
   "cell_type": "markdown",
   "id": "883c0f80",
   "metadata": {},
   "source": [
    "Configuring learning process"
   ]
  },
  {
   "cell_type": "code",
   "execution_count": 17,
   "id": "98f74b36",
   "metadata": {},
   "outputs": [
    {
     "name": "stdout",
     "output_type": "stream",
     "text": [
      "WARNING:tensorflow:From C:\\Users\\whynew\\anaconda3\\Lib\\site-packages\\keras\\src\\optimizers\\__init__.py:309: The name tf.train.Optimizer is deprecated. Please use tf.compat.v1.train.Optimizer instead.\n",
      "\n"
     ]
    }
   ],
   "source": [
    "model.compile(optimizer='adam',loss='categorical_crossentropy',metrics=['accuracy'])"
   ]
  },
  {
   "cell_type": "code",
   "execution_count": 18,
   "id": "0bb6f4f9",
   "metadata": {
    "scrolled": true
   },
   "outputs": [
    {
     "name": "stderr",
     "output_type": "stream",
     "text": [
      "C:\\Users\\whynew\\AppData\\Local\\Temp\\ipykernel_17232\\53529210.py:1: UserWarning: `Model.fit_generator` is deprecated and will be removed in a future version. Please use `Model.fit`, which supports generators.\n",
      "  model.fit_generator(generator=x_train,steps_per_epoch = len(x_train), epochs=10, validation_data=x_test,validation_steps = len(x_test))\n"
     ]
    },
    {
     "name": "stdout",
     "output_type": "stream",
     "text": [
      "Epoch 1/10\n",
      "WARNING:tensorflow:From C:\\Users\\whynew\\anaconda3\\Lib\\site-packages\\keras\\src\\utils\\tf_utils.py:492: The name tf.ragged.RaggedTensorValue is deprecated. Please use tf.compat.v1.ragged.RaggedTensorValue instead.\n",
      "\n",
      "WARNING:tensorflow:From C:\\Users\\whynew\\anaconda3\\Lib\\site-packages\\keras\\src\\engine\\base_layer_utils.py:384: The name tf.executing_eagerly_outside_functions is deprecated. Please use tf.compat.v1.executing_eagerly_outside_functions instead.\n",
      "\n",
      "480/480 [==============================] - 120s 238ms/step - loss: 1.2797 - accuracy: 0.5367 - val_loss: 1.3938 - val_accuracy: 0.5144\n",
      "Epoch 2/10\n",
      "480/480 [==============================] - 113s 236ms/step - loss: 0.6291 - accuracy: 0.7789 - val_loss: 1.0435 - val_accuracy: 0.7601\n",
      "Epoch 3/10\n",
      "480/480 [==============================] - 111s 232ms/step - loss: 0.2687 - accuracy: 0.9124 - val_loss: 0.5836 - val_accuracy: 0.8484\n",
      "Epoch 4/10\n",
      "480/480 [==============================] - 113s 235ms/step - loss: 0.1808 - accuracy: 0.9446 - val_loss: 0.6435 - val_accuracy: 0.8579\n",
      "Epoch 5/10\n",
      "480/480 [==============================] - 113s 234ms/step - loss: 0.1396 - accuracy: 0.9553 - val_loss: 0.5626 - val_accuracy: 0.8711\n",
      "Epoch 6/10\n",
      "480/480 [==============================] - 113s 234ms/step - loss: 0.1226 - accuracy: 0.9621 - val_loss: 0.6992 - val_accuracy: 0.8544\n",
      "Epoch 7/10\n",
      "480/480 [==============================] - 112s 234ms/step - loss: 0.0999 - accuracy: 0.9673 - val_loss: 0.5167 - val_accuracy: 0.8733\n",
      "Epoch 8/10\n",
      "480/480 [==============================] - 113s 235ms/step - loss: 0.0837 - accuracy: 0.9735 - val_loss: 0.5062 - val_accuracy: 0.8779\n",
      "Epoch 9/10\n",
      "480/480 [==============================] - 83s 173ms/step - loss: 0.0752 - accuracy: 0.9769 - val_loss: 0.4246 - val_accuracy: 0.8925\n",
      "Epoch 10/10\n",
      "480/480 [==============================] - 79s 165ms/step - loss: 0.0681 - accuracy: 0.9780 - val_loss: 0.6204 - val_accuracy: 0.8655\n"
     ]
    },
    {
     "data": {
      "text/plain": [
       "<keras.src.callbacks.History at 0x204ad179650>"
      ]
     },
     "execution_count": 18,
     "metadata": {},
     "output_type": "execute_result"
    }
   ],
   "source": [
    "model.fit_generator(generator=x_train,steps_per_epoch = len(x_train), epochs=10, validation_data=x_test,validation_steps = len(x_test))"
   ]
  },
  {
   "cell_type": "raw",
   "id": "d87c04fa",
   "metadata": {},
   "source": [
    "As the accuracy of 95.6%. We stop the epochs and go further"
   ]
  },
  {
   "cell_type": "code",
   "execution_count": 20,
   "id": "c47ab0d9",
   "metadata": {},
   "outputs": [
    {
     "name": "stdout",
     "output_type": "stream",
     "text": [
      "Found 6825 images belonging to 6 classes.\n",
      "214/214 [==============================] - 16s 73ms/step\n"
     ]
    },
    {
     "data": {
      "image/png": "[encoded data removed]",
      "text/plain": [
       "<Figure size 1000x800 with 2 Axes>"
      ]
     },
     "metadata": {},
     "output_type": "display_data"
    },
    {
     "name": "stdout",
     "output_type": "stream",
     "text": [
      "Precision per class: [0.0368272  0.31137725 0.20851371 0.13949843 0.245142   0.04074074]\n",
      "Recall per class: [0.03812317 0.31023405 0.1922821  0.09726776 0.29908815 0.04545455]\n",
      "F1-Score per class: [0.03746398 0.3108046  0.20006923 0.11461687 0.2694414  0.04296875]\n",
      "Average Precision: 0.1636832209703785\n",
      "Average Recall: 0.16374162880813145\n",
      "Average F1-Score: 0.16256080421626876\n",
      "Classification Report:\n",
      "                                     precision    recall  f1-score   support\n",
      "\n",
      "          Left Bundle Branch Block       0.04      0.04      0.04       341\n",
      "                            Normal       0.31      0.31      0.31      2179\n",
      "      Premature Atrial Contraction       0.21      0.19      0.20      1503\n",
      "Premature Ventricular Contractions       0.14      0.10      0.11       915\n",
      "         Right Bundle Branch Block       0.25      0.30      0.27      1645\n",
      "          Ventricular Fibrillation       0.04      0.05      0.04       242\n",
      "\n",
      "                          accuracy                           0.23      6825\n",
      "                         macro avg       0.16      0.16      0.16      6825\n",
      "                      weighted avg       0.23      0.23      0.23      6825\n",
      "\n"
     ]
    }
   ],
   "source": [
    "#!/usr/bin/env python\n",
    "# coding: utf-8\n",
    "\n",
    "# Import necessary libraries\n",
    "from sklearn.metrics import confusion_matrix, ConfusionMatrixDisplay, precision_score, recall_score, f1_score, classification_report\n",
    "import numpy as np\n",
    "import matplotlib.pyplot as plt\n",
    "from tensorflow.keras.models import load_model\n",
    "from tensorflow.keras.preprocessing.image import ImageDataGenerator\n",
    "\n",
    "# Load the model\n",
    "model = load_model('ECG.h5')\n",
    "\n",
    "# Load test data\n",
    "test_datagen = ImageDataGenerator(rescale=1./255)\n",
    "x_test = test_datagen.flow_from_directory(r\"../data/test\", target_size=(64, 64), batch_size=32, class_mode=\"categorical\")\n",
    "\n",
    "# Predict the classes on the test set\n",
    "y_true = x_test.classes\n",
    "y_pred = np.argmax(model.predict(x_test), axis=1)\n",
    "\n",
    "# Extract class labels\n",
    "class_labels = list(x_test.class_indices.keys())\n",
    "\n",
    "# Compute confusion matrix\n",
    "cm = confusion_matrix(y_true, y_pred)\n",
    "\n",
    "# Create a figure and axis for the heatmap\n",
    "fig, ax = plt.subplots(figsize=(10, 8))\n",
    "\n",
    "# Display the confusion matrix\n",
    "disp = ConfusionMatrixDisplay(confusion_matrix=cm, display_labels=class_labels)\n",
    "disp.plot(cmap='Blues', ax=ax, values_format='d')\n",
    "\n",
    "# Set plot title and labels\n",
    "plt.title('Confusion Matrix')\n",
    "plt.xlabel('Predicted Labels')\n",
    "plt.ylabel('True Labels')\n",
    "plt.xticks(rotation=45, ha='right')\n",
    "plt.yticks(rotation=0)\n",
    "plt.grid(False)\n",
    "\n",
    "# Adjust layout to prevent clipping of tick labels\n",
    "plt.tight_layout()\n",
    "\n",
    "# Show the plot\n",
    "plt.show()\n",
    "\n",
    "# Compute precision, recall, and F1-score\n",
    "precision = precision_score(y_true, y_pred, average=None, labels=np.arange(len(class_labels)))\n",
    "recall = recall_score(y_true, y_pred, average=None, labels=np.arange(len(class_labels)))\n",
    "f1 = f1_score(y_true, y_pred, average=None, labels=np.arange(len(class_labels)))\n",
    "\n",
    "# Print precision, recall, and F1-score\n",
    "print(\"Precision per class:\", precision)\n",
    "print(\"Recall per class:\", recall)\n",
    "print(\"F1-Score per class:\", f1)\n",
    "\n",
    "# Print average precision, recall, and F1-score\n",
    "print(\"Average Precision:\", np.mean(precision))\n",
    "print(\"Average Recall:\", np.mean(recall))\n",
    "print(\"Average F1-Score:\", np.mean(f1))\n",
    "\n",
    "# Generate and print classification report\n",
    "report = classification_report(y_true, y_pred, target_names=class_labels)\n",
    "print(\"Classification Report:\\n\", report)\n"
   ]
  },
  {
   "cell_type": "markdown",
   "id": "b3208e4e",
   "metadata": {},
   "source": [
    "## Testing the model "
   ]
  },
  {
   "cell_type": "code",
   "execution_count": 21,
   "id": "1a590a36",
   "metadata": {},
   "outputs": [],
   "source": [
    "from tensorflow.keras.models import load_model\n",
    "from tensorflow.keras.preprocessing import image"
   ]
  },
  {
   "cell_type": "code",
   "execution_count": 22,
   "id": "97af5a90",
   "metadata": {},
   "outputs": [],
   "source": [
    "model=load_model('ECG.h5')"
   ]
  },
  {
   "cell_type": "code",
   "execution_count": 23,
   "id": "707945fb",
   "metadata": {},
   "outputs": [],
   "source": [
    "img=image.load_img(\"test3.png\",target_size=(64,64))"
   ]
  },
  {
   "cell_type": "code",
   "execution_count": 24,
   "id": "f34b92f8",
   "metadata": {},
   "outputs": [],
   "source": [
    "x=image.img_to_array(img)"
   ]
  },
  {
   "cell_type": "code",
   "execution_count": 25,
   "id": "1c977855",
   "metadata": {},
   "outputs": [],
   "source": [
    "import numpy as np"
   ]
  },
  {
   "cell_type": "code",
   "execution_count": 26,
   "id": "735ae665",
   "metadata": {},
   "outputs": [],
   "source": [
    "x=np.expand_dims(x,axis=0)"
   ]
  },
  {
   "cell_type": "code",
   "execution_count": 27,
   "id": "4f78435a",
   "metadata": {},
   "outputs": [
    {
     "name": "stdout",
     "output_type": "stream",
     "text": [
      "1/1 [==============================] - 0s 225ms/step\n"
     ]
    }
   ],
   "source": [
    "pred = model.predict(x)"
   ]
  },
  {
   "cell_type": "code",
   "execution_count": 28,
   "id": "44637143",
   "metadata": {},
   "outputs": [],
   "source": [
    "y_pred=np.argmax(pred)"
   ]
  },
  {
   "cell_type": "code",
   "execution_count": 29,
   "id": "704d999e",
   "metadata": {},
   "outputs": [
    {
     "data": {
      "text/plain": [
       "4"
      ]
     },
     "execution_count": 29,
     "metadata": {},
     "output_type": "execute_result"
    }
   ],
   "source": [
    "y_pred"
   ]
  },
  {
   "cell_type": "code",
   "execution_count": 30,
   "id": "5b7c497d",
   "metadata": {},
   "outputs": [],
   "source": [
    "index=['left Bundle Branch block',\n",
    "       'Normal',\n",
    "       'Premature Atrial Contraction',\n",
    "       'Premature Ventricular Contraction',\n",
    "       'Right Bundle Branch Block',\n",
    "       'Ventricular Fibrillation']"
   ]
  },
  {
   "cell_type": "code",
   "execution_count": 31,
   "id": "ad146fa0",
   "metadata": {},
   "outputs": [],
   "source": [
    "result = str(index[y_pred])"
   ]
  },
  {
   "cell_type": "code",
   "execution_count": 32,
   "id": "536b6b3d",
   "metadata": {},
   "outputs": [
    {
     "data": {
      "text/plain": [
       "'Right Bundle Branch Block'"
      ]
     },
     "execution_count": 32,
     "metadata": {},
     "output_type": "execute_result"
    }
   ],
   "source": [
    "result"
   ]
  }
 ],
 "metadata": {
  "kernelspec": {
   "display_name": "Python 3 (ipykernel)",
   "language": "python",
   "name": "python3"
  },
  "language_info": {
   "codemirror_mode": {
    "name": "ipython",
    "version": 3
   },
   "file_extension": ".py",
   "mimetype": "text/x-python",
   "name": "python",
   "nbconvert_exporter": "python",
   "pygments_lexer": "ipython3",
   "version": "3.11.5"
  }
 },
 "nbformat": 4,
 "nbformat_minor": 5
}
